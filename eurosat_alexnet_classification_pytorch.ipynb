{
 "cells": [
  {
   "cell_type": "markdown",
   "id": "33a95a7e",
   "metadata": {},
   "source": [
    "### Imports"
   ]
  },
  {
   "cell_type": "code",
   "execution_count": 1,
   "id": "9d928a7e",
   "metadata": {},
   "outputs": [],
   "source": [
    "import os\n",
    "import shutil\n",
    "import random\n",
    "from PIL import Image\n",
    "import torch\n",
    "import torch.nn as nn\n",
    "import torch.optim as optim\n",
    "import torchvision\n",
    "import torchvision.transforms as transforms\n",
    "import matplotlib.pyplot as plt\n",
    "import numpy as np\n",
    "from torch.utils.data import DataLoader"
   ]
  },
  {
   "cell_type": "markdown",
   "id": "eaba3067",
   "metadata": {},
   "source": [
    "### Dataset Splitting"
   ]
  },
  {
   "cell_type": "code",
   "execution_count": 2,
   "id": "ed28e4e3",
   "metadata": {},
   "outputs": [
    {
     "name": "stdout",
     "output_type": "stream",
     "text": [
      "Split Complete!\n"
     ]
    }
   ],
   "source": [
    "dataset_dir = 'EuroSAT_RGB'\n",
    "train_dir = 'EuroSAT_train'\n",
    "test_dir = 'EuroSAT_test'\n",
    "split = 0.8\n",
    "\n",
    "random.seed(42)\n",
    "\n",
    "os.makedirs(train_dir, exist_ok=True)\n",
    "os.makedirs(test_dir, exist_ok=True)\n",
    "\n",
    "for class_name in os.listdir(dataset_dir):\n",
    "    source_class_dir = os.path.join(dataset_dir, class_name)\n",
    "    if not os.path.isdir(source_class_dir):\n",
    "        continue\n",
    "    images = [i for i in os.listdir(source_class_dir) if os.path.isfile(os.path.join(source_class_dir, i))]\n",
    "    random.shuffle(images)\n",
    "    split_idx = int(len(images) * split)\n",
    "\n",
    "    train_class_dir = os.path.join(train_dir, class_name)\n",
    "    test_class_dir = os.path.join(test_dir, class_name)\n",
    "    os.makedirs(train_class_dir, exist_ok=True)\n",
    "    os.makedirs(test_class_dir, exist_ok=True)\n",
    "\n",
    "    for img in images[:split_idx]:\n",
    "        shutil.copy(os.path.join(source_class_dir, img), os.path.join(train_class_dir, img))\n",
    "    for img in images[split_idx:]:\n",
    "        shutil.copy(os.path.join(source_class_dir, img), os.path.join(test_class_dir, img))\n",
    "\n",
    "print(\"Split Complete!\")\n",
    "            "
   ]
  },
  {
   "cell_type": "markdown",
   "id": "0e322816",
   "metadata": {},
   "source": [
    "### Dataset Images Transformations"
   ]
  },
  {
   "cell_type": "code",
   "execution_count": 3,
   "id": "6c28be7b",
   "metadata": {},
   "outputs": [],
   "source": [
    "transform_train = transforms.Compose([\n",
    "    transforms.Resize((224, 224)),\n",
    "    transforms.RandomHorizontalFlip(),\n",
    "    transforms.RandomVerticalFlip(),\n",
    "    transforms.RandomRotation(30),\n",
    "    transforms.ToTensor(),\n",
    "    transforms.Normalize(mean=[0.485, 0.456, 0.406], std=[0.229, 0.224, 0.225])\n",
    "])\n",
    "\n",
    "transform_test = transforms.Compose([\n",
    "    transforms.Resize((224, 224)),\n",
    "    transforms.ToTensor(),\n",
    "    transforms.Normalize(mean=[0.485, 0.456, 0.406], std=[0.229, 0.224, 0.225])\n",
    "])"
   ]
  },
  {
   "cell_type": "markdown",
   "id": "299177c9",
   "metadata": {},
   "source": [
    "### Loading The Dataset"
   ]
  },
  {
   "cell_type": "code",
   "execution_count": 4,
   "id": "55aef747",
   "metadata": {},
   "outputs": [],
   "source": [
    "dataset_path = \"./EuroSAT\"\n",
    "train_dataset = torchvision.datasets.ImageFolder(root=dataset_path + \"_train\", transform=transform_train)\n",
    "test_dataset = torchvision.datasets.ImageFolder(root=dataset_path + \"_test\", transform=transform_test)"
   ]
  },
  {
   "cell_type": "code",
   "execution_count": 5,
   "id": "65d159e2",
   "metadata": {},
   "outputs": [],
   "source": [
    "train_loader = DataLoader(train_dataset, batch_size=32, shuffle=True)\n",
    "test_loader = DataLoader(test_dataset, batch_size=32, shuffle=False)"
   ]
  },
  {
   "cell_type": "markdown",
   "id": "1c55f8d8",
   "metadata": {},
   "source": [
    "### Dataset Info"
   ]
  },
  {
   "cell_type": "code",
   "execution_count": 6,
   "id": "82046df9",
   "metadata": {},
   "outputs": [
    {
     "name": "stdout",
     "output_type": "stream",
     "text": [
      "Dataset: Training Set\n",
      "Total samples: 21600\n",
      "Batch size: 32\n",
      "Image shape: torch.Size([32, 3, 224, 224])\n",
      "Unique classes: {'Pasture', 'River', 'AnnualCrop', 'PermanentCrop', 'HerbaceousVegetation', 'Industrial', 'SeaLake', 'Highway', 'Residential', 'Forest'}\n",
      "Total classes: 10\n"
     ]
    }
   ],
   "source": [
    "def dataset_info(loader, dataset_name=\"Dataset\"):\n",
    "    print(f\"Dataset: {dataset_name}\")\n",
    "    print(f\"Total samples: {len(loader.dataset)}\")\n",
    "\n",
    "    images, labels = next(iter(loader))\n",
    "    print(f\"Batch size: {images.shape[0]}\")\n",
    "    print(f\"Image shape: {images.shape}\")\n",
    "    class_names = loader.dataset.classes\n",
    "    unique_indicies = set(labels.numpy())\n",
    "    unique_class_names = [class_names[i] for i in unique_indicies]\n",
    "    print(f\"Unique classes: {set(unique_class_names)}\")\n",
    "    print(f\"Total classes: {len(class_names)}\")\n",
    "\n",
    "dataset_info(train_loader, \"Training Set\")"
   ]
  },
  {
   "cell_type": "markdown",
   "id": "88abfd00",
   "metadata": {},
   "source": [
    "### Model Training"
   ]
  },
  {
   "cell_type": "code",
   "execution_count": 7,
   "id": "af2f5131",
   "metadata": {},
   "outputs": [],
   "source": [
    "def train(num_epochs=10):\n",
    "    train_losses, train_accuracies = [], []\n",
    "    for epoch in range(num_epochs):\n",
    "        model.train()\n",
    "        running_loss, correct, total = 0.0, 0, 0\n",
    "        for images, labels in train_loader:\n",
    "            images, labels = images.to(device), labels.to(device)\n",
    "            optimizer.zero_grad()\n",
    "            outputs = model(images)\n",
    "            loss = criterion(outputs, labels)\n",
    "            loss.backward()\n",
    "            optimizer.step()\n",
    "            running_loss += loss.item()\n",
    "            _, predicted = outputs.max(1)\n",
    "            total += labels.size(0)\n",
    "            correct += predicted.eq(labels).sum().item()\n",
    "        epoch_loss = running_loss / len(train_loader)\n",
    "        epoch_acc = 100. * correct / total\n",
    "        train_losses.append(epoch_loss)\n",
    "        train_accuracies.append(epoch_acc)\n",
    "        print(f\"Epoch {epoch+1}, Loss: {epoch_loss:.4f}, Accuracy: {epoch_acc:.2f}%\")\n",
    "    return train_losses, train_accuracies"
   ]
  },
  {
   "cell_type": "markdown",
   "id": "c8a0f6c2",
   "metadata": {},
   "source": [
    "### AlexNet Model Architecture"
   ]
  },
  {
   "cell_type": "code",
   "execution_count": 8,
   "id": "f5b4b6b4",
   "metadata": {},
   "outputs": [],
   "source": [
    "class AlexNet(nn.Module):\n",
    "    def __init__(self, num_classes=10):\n",
    "        super(AlexNet, self).__init__()\n",
    "        self.features = nn.Sequential(\n",
    "            nn.Conv2d(3, 64, kernel_size=11, stride=4, padding=2),\n",
    "            nn.ReLU(inplace=True),\n",
    "            nn.MaxPool2d(kernel_size=3, stride=2),\n",
    "            nn.Conv2d(64, 192, kernel_size=5, padding=2),\n",
    "            nn.ReLU(inplace=True),\n",
    "            nn.MaxPool2d(kernel_size=3, stride=2),\n",
    "            nn.Conv2d(192, 384, kernel_size=3, padding=1),\n",
    "            nn.ReLU(inplace=True),\n",
    "            nn.Conv2d(384, 256, kernel_size=3, padding=1),\n",
    "            nn.ReLU(inplace=True),\n",
    "            nn.Conv2d(256, 256, kernel_size=3, padding=1),\n",
    "            nn.ReLU(inplace=True),\n",
    "            nn.MaxPool2d(kernel_size=3, stride=2)\n",
    "        )\n",
    "        self.classifier = nn.Sequential(\n",
    "            nn.Dropout(),\n",
    "            nn.Linear(256 * 6 * 6, 4096),\n",
    "            nn.ReLU(inplace=True),\n",
    "            nn.Dropout(),\n",
    "            nn.Linear(4096, 4096),\n",
    "            nn.ReLU(inplace=True),\n",
    "            nn.Linear(4096, num_classes)\n",
    "        )\n",
    "\n",
    "    def forward(self, x):\n",
    "        x = self.features(x)\n",
    "        x = torch.flatten(x, 1)\n",
    "        x = self.classifier(x)\n",
    "        return x"
   ]
  },
  {
   "cell_type": "markdown",
   "id": "09972dd9",
   "metadata": {},
   "source": [
    "### Model, Loss Function & Optimizer"
   ]
  },
  {
   "cell_type": "code",
   "execution_count": 9,
   "id": "a061ba25",
   "metadata": {},
   "outputs": [],
   "source": [
    "device = torch.device(\"cuda\" if torch.cuda.is_available() else \"cpu\")\n",
    "model = AlexNet(num_classes=10).to(device)\n",
    "criterion = nn.CrossEntropyLoss()\n",
    "optimizer = optim.Adam(model.parameters(), lr=0.001)"
   ]
  },
  {
   "cell_type": "markdown",
   "id": "55510f5a",
   "metadata": {},
   "source": [
    "### Model Evaluation"
   ]
  },
  {
   "cell_type": "code",
   "execution_count": 10,
   "id": "14d820bc",
   "metadata": {},
   "outputs": [],
   "source": [
    "def evaluate():\n",
    "    model.eval()\n",
    "    correct, total = 0, 0\n",
    "    with torch.no_grad():\n",
    "        for images, labels in test_loader:\n",
    "            images, labels = images.to(device), labels.to(device)\n",
    "            outputs = model(images)\n",
    "            _, predicted = outputs.max(1)\n",
    "            total += labels.size(0)\n",
    "            correct += predicted.eq(labels).sum().item()\n",
    "        accuracy = 100. * correct / total\n",
    "        print(f\"Test Accuracy: {accuracy:.2f}%\")\n",
    "        return accuracy"
   ]
  },
  {
   "cell_type": "markdown",
   "id": "1e3df37d",
   "metadata": {},
   "source": [
    "### Model Inferencing"
   ]
  },
  {
   "cell_type": "code",
   "execution_count": 16,
   "id": "5b75b345",
   "metadata": {},
   "outputs": [],
   "source": [
    "def predict(image_path):\n",
    "    image = Image.open(image_path)\n",
    "    image = transform_test(image).unsqueeze(0).to(device)\n",
    "    model.eval()\n",
    "    with torch.no_grad():\n",
    "        output = model(image)\n",
    "        _, predicted = output.max(1)\n",
    "        class_names = train_dataset.classes\n",
    "    print(f\"Predicted Class: {class_names[predicted.item()]}\")\n",
    "    return predicted.item()"
   ]
  },
  {
   "cell_type": "markdown",
   "id": "b4f0252d",
   "metadata": {},
   "source": [
    "### Visualization of Loss & Accuracy"
   ]
  },
  {
   "cell_type": "code",
   "execution_count": 12,
   "id": "c5074024",
   "metadata": {},
   "outputs": [],
   "source": [
    "def plot_metrics(train_losses, train_accuracies):\n",
    "    plt.figure(figsize=(12, 5))\n",
    "    plt.subplot(1, 2, 1)\n",
    "    plt.plot(train_losses, label='Training Loss')\n",
    "    plt.xlabel('Epochs')\n",
    "    plt.ylabel('Loss')\n",
    "    plt.legend()\n",
    "    plt.subplot(1, 2, 2)\n",
    "    plt.plot(train_accuracies, label='Training Accuracy', color='green')\n",
    "    plt.xlabel('Epochs')\n",
    "    plt.ylabel('Accuracy (%)')\n",
    "    plt.legend()\n",
    "    plt.show()"
   ]
  },
  {
   "cell_type": "markdown",
   "id": "6d49ca3b",
   "metadata": {},
   "source": [
    "### Training The Model"
   ]
  },
  {
   "cell_type": "code",
   "execution_count": 13,
   "id": "a1dae801",
   "metadata": {},
   "outputs": [
    {
     "name": "stdout",
     "output_type": "stream",
     "text": [
      "##################################################\n",
      "Training Started\n",
      "Epoch 1, Loss: 1.6299, Accuracy: 36.09%\n",
      "Epoch 2, Loss: 1.1792, Accuracy: 55.45%\n",
      "Epoch 3, Loss: 0.9976, Accuracy: 63.80%\n",
      "Epoch 4, Loss: 0.9080, Accuracy: 67.40%\n",
      "Epoch 5, Loss: 0.8262, Accuracy: 70.61%\n",
      "Epoch 6, Loss: 0.7771, Accuracy: 72.25%\n",
      "Epoch 7, Loss: 0.7495, Accuracy: 73.34%\n",
      "Epoch 8, Loss: 0.7406, Accuracy: 74.08%\n",
      "Epoch 9, Loss: 0.7041, Accuracy: 74.91%\n",
      "Epoch 10, Loss: 0.7089, Accuracy: 75.08%\n",
      "Epoch 11, Loss: 0.7535, Accuracy: 74.75%\n",
      "Epoch 12, Loss: 0.6930, Accuracy: 75.38%\n",
      "Epoch 13, Loss: 0.6746, Accuracy: 75.93%\n",
      "Epoch 14, Loss: 0.6792, Accuracy: 76.14%\n",
      "Epoch 15, Loss: 0.7580, Accuracy: 73.51%\n",
      "Training Completed\n",
      "##################################################\n",
      "Model Evaluation Started\n",
      "Test Accuracy: 77.74%\n",
      "Model Evaluation Completed\n",
      "##################################################\n",
      "Plotting The Metrics\n"
     ]
    },
    {
     "data": {
      "image/png": "[encoded data removed]",
      "text/plain": [
       "<Figure size 1200x500 with 2 Axes>"
      ]
     },
     "metadata": {},
     "output_type": "display_data"
    }
   ],
   "source": [
    "print('#' * 50)\n",
    "print('Training Started')\n",
    "train_losses, train_accuracies = train(num_epochs=15)\n",
    "print('Training Completed')\n",
    "print('#' * 50)\n",
    "print('Model Evaluation Started')\n",
    "evaluate()\n",
    "print('Model Evaluation Completed')\n",
    "print('#' * 50)\n",
    "print('Plotting The Metrics')\n",
    "plot_metrics(train_losses, train_accuracies)"
   ]
  },
  {
   "cell_type": "code",
   "execution_count": 17,
   "id": "b2ea2840",
   "metadata": {},
   "outputs": [
    {
     "name": "stdout",
     "output_type": "stream",
     "text": [
      "Predicted Class: PermanentCrop\n"
     ]
    },
    {
     "data": {
      "text/plain": [
       "6"
      ]
     },
     "execution_count": 17,
     "metadata": {},
     "output_type": "execute_result"
    }
   ],
   "source": [
    "predict(\"./EuroSAT_test/PermanentCrop/PermanentCrop_294.jpg\")"
   ]
  },
  {
   "cell_type": "code",
   "execution_count": 18,
   "id": "93ea04e7",
   "metadata": {},
   "outputs": [],
   "source": [
    "torch.save(model.state_dict(), 'EuroSAT_15_epochs_with_augmentation.pth')"
   ]
  },
  {
   "cell_type": "code",
   "execution_count": null,
   "id": "bd721709",
   "metadata": {},
   "outputs": [],
   "source": []
  }
 ],
 "metadata": {
  "kernelspec": {
   "display_name": "pytorch_12_6",
   "language": "python",
   "name": "pytorch_12_6"
  },
  "language_info": {
   "codemirror_mode": {
    "name": "ipython",
    "version": 3
   },
   "file_extension": ".py",
   "mimetype": "text/x-python",
   "name": "python",
   "nbconvert_exporter": "python",
   "pygments_lexer": "ipython3",
   "version": "3.12.11"
  }
 },
 "nbformat": 4,
 "nbformat_minor": 5
}
